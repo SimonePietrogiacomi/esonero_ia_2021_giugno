{
 "cells": [
  {
   "cell_type": "code",
   "execution_count": 1,
   "metadata": {},
   "outputs": [
    {
     "name": "stdout",
     "output_type": "stream",
     "text": [
      "Requirement already satisfied: pandas==1.1.3 in /home/newbie/anaconda3/lib/python3.8/site-packages (from -r requirements.txt (line 1)) (1.1.3)\n",
      "Requirement already satisfied: numpy==1.19.2 in /home/newbie/anaconda3/lib/python3.8/site-packages (from -r requirements.txt (line 2)) (1.19.2)\n",
      "Requirement already satisfied: scikit-learn==0.23.2 in /home/newbie/anaconda3/lib/python3.8/site-packages (from -r requirements.txt (line 3)) (0.23.2)\n",
      "Requirement already satisfied: seaborn==0.11.0 in /home/newbie/anaconda3/lib/python3.8/site-packages (from -r requirements.txt (line 4)) (0.11.0)\n",
      "Requirement already satisfied: matplotlib==3.3.2 in /home/newbie/anaconda3/lib/python3.8/site-packages (from -r requirements.txt (line 5)) (3.3.2)\n",
      "Requirement already satisfied: pytz>=2017.2 in /home/newbie/anaconda3/lib/python3.8/site-packages (from pandas==1.1.3->-r requirements.txt (line 1)) (2020.1)\n",
      "Requirement already satisfied: python-dateutil>=2.7.3 in /home/newbie/anaconda3/lib/python3.8/site-packages (from pandas==1.1.3->-r requirements.txt (line 1)) (2.8.1)\n",
      "Requirement already satisfied: joblib>=0.11 in /home/newbie/anaconda3/lib/python3.8/site-packages (from scikit-learn==0.23.2->-r requirements.txt (line 3)) (0.17.0)\n",
      "Requirement already satisfied: scipy>=0.19.1 in /home/newbie/anaconda3/lib/python3.8/site-packages (from scikit-learn==0.23.2->-r requirements.txt (line 3)) (1.5.2)\n",
      "Requirement already satisfied: threadpoolctl>=2.0.0 in /home/newbie/anaconda3/lib/python3.8/site-packages (from scikit-learn==0.23.2->-r requirements.txt (line 3)) (2.1.0)\n",
      "Requirement already satisfied: cycler>=0.10 in /home/newbie/anaconda3/lib/python3.8/site-packages (from matplotlib==3.3.2->-r requirements.txt (line 5)) (0.10.0)\n",
      "Requirement already satisfied: pyparsing!=2.0.4,!=2.1.2,!=2.1.6,>=2.0.3 in /home/newbie/anaconda3/lib/python3.8/site-packages (from matplotlib==3.3.2->-r requirements.txt (line 5)) (2.4.7)\n",
      "Requirement already satisfied: certifi>=2020.06.20 in /home/newbie/anaconda3/lib/python3.8/site-packages (from matplotlib==3.3.2->-r requirements.txt (line 5)) (2020.6.20)\n",
      "Requirement already satisfied: kiwisolver>=1.0.1 in /home/newbie/anaconda3/lib/python3.8/site-packages (from matplotlib==3.3.2->-r requirements.txt (line 5)) (1.3.0)\n",
      "Requirement already satisfied: pillow>=6.2.0 in /home/newbie/anaconda3/lib/python3.8/site-packages (from matplotlib==3.3.2->-r requirements.txt (line 5)) (8.0.1)\n",
      "Requirement already satisfied: six>=1.5 in /home/newbie/anaconda3/lib/python3.8/site-packages (from python-dateutil>=2.7.3->pandas==1.1.3->-r requirements.txt (line 1)) (1.15.0)\n"
     ]
    }
   ],
   "source": [
    "!pip install -r requirements.txt"
   ]
  },
  {
   "cell_type": "code",
   "execution_count": 2,
   "metadata": {},
   "outputs": [],
   "source": [
    "import pandas as pd"
   ]
  },
  {
   "cell_type": "code",
   "execution_count": 3,
   "metadata": {},
   "outputs": [],
   "source": [
    "dataset = pd.read_csv(\"combats.partial.csv\")"
   ]
  },
  {
   "cell_type": "code",
   "execution_count": 4,
   "metadata": {},
   "outputs": [],
   "source": [
    "from sklearn.model_selection import train_test_split\n",
    "train, test = train_test_split(dataset, test_size=0.2, random_state = 10)\n",
    "train.to_csv(\"train.csv\", index=False)\n",
    "test.to_csv(\"test.csv\", index=False)"
   ]
  },
  {
   "cell_type": "code",
   "execution_count": null,
   "metadata": {},
   "outputs": [],
   "source": []
  }
 ],
 "metadata": {
  "kernelspec": {
   "display_name": "Python 3",
   "language": "python",
   "name": "python3"
  },
  "language_info": {
   "codemirror_mode": {
    "name": "ipython",
    "version": 3
   },
   "file_extension": ".py",
   "mimetype": "text/x-python",
   "name": "python",
   "nbconvert_exporter": "python",
   "pygments_lexer": "ipython3",
   "version": "3.8.5"
  }
 },
 "nbformat": 4,
 "nbformat_minor": 4
}
