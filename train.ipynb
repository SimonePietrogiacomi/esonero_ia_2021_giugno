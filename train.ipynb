{
 "cells": [
  {
   "cell_type": "code",
   "execution_count": 1,
   "metadata": {},
   "outputs": [
    {
     "name": "stdout",
     "output_type": "stream",
     "text": [
      "Requirement already satisfied: pandas==1.1.3 in /home/newbie/anaconda3/lib/python3.8/site-packages (from -r requirements.txt (line 1)) (1.1.3)\n",
      "Requirement already satisfied: numpy==1.19.2 in /home/newbie/anaconda3/lib/python3.8/site-packages (from -r requirements.txt (line 2)) (1.19.2)\n",
      "Requirement already satisfied: scikit-learn==0.23.2 in /home/newbie/anaconda3/lib/python3.8/site-packages (from -r requirements.txt (line 3)) (0.23.2)\n",
      "Requirement already satisfied: seaborn==0.11.0 in /home/newbie/anaconda3/lib/python3.8/site-packages (from -r requirements.txt (line 4)) (0.11.0)\n",
      "Requirement already satisfied: matplotlib==3.3.2 in /home/newbie/anaconda3/lib/python3.8/site-packages (from -r requirements.txt (line 5)) (3.3.2)\n",
      "Requirement already satisfied: pytz>=2017.2 in /home/newbie/anaconda3/lib/python3.8/site-packages (from pandas==1.1.3->-r requirements.txt (line 1)) (2020.1)\n",
      "Requirement already satisfied: python-dateutil>=2.7.3 in /home/newbie/anaconda3/lib/python3.8/site-packages (from pandas==1.1.3->-r requirements.txt (line 1)) (2.8.1)\n",
      "Requirement already satisfied: joblib>=0.11 in /home/newbie/anaconda3/lib/python3.8/site-packages (from scikit-learn==0.23.2->-r requirements.txt (line 3)) (0.17.0)\n",
      "Requirement already satisfied: threadpoolctl>=2.0.0 in /home/newbie/anaconda3/lib/python3.8/site-packages (from scikit-learn==0.23.2->-r requirements.txt (line 3)) (2.1.0)\n",
      "Requirement already satisfied: scipy>=0.19.1 in /home/newbie/anaconda3/lib/python3.8/site-packages (from scikit-learn==0.23.2->-r requirements.txt (line 3)) (1.5.2)\n",
      "Requirement already satisfied: pyparsing!=2.0.4,!=2.1.2,!=2.1.6,>=2.0.3 in /home/newbie/anaconda3/lib/python3.8/site-packages (from matplotlib==3.3.2->-r requirements.txt (line 5)) (2.4.7)\n",
      "Requirement already satisfied: cycler>=0.10 in /home/newbie/anaconda3/lib/python3.8/site-packages (from matplotlib==3.3.2->-r requirements.txt (line 5)) (0.10.0)\n",
      "Requirement already satisfied: kiwisolver>=1.0.1 in /home/newbie/anaconda3/lib/python3.8/site-packages (from matplotlib==3.3.2->-r requirements.txt (line 5)) (1.3.0)\n",
      "Requirement already satisfied: pillow>=6.2.0 in /home/newbie/anaconda3/lib/python3.8/site-packages (from matplotlib==3.3.2->-r requirements.txt (line 5)) (8.0.1)\n",
      "Requirement already satisfied: certifi>=2020.06.20 in /home/newbie/anaconda3/lib/python3.8/site-packages (from matplotlib==3.3.2->-r requirements.txt (line 5)) (2020.6.20)\n",
      "Requirement already satisfied: six>=1.5 in /home/newbie/anaconda3/lib/python3.8/site-packages (from python-dateutil>=2.7.3->pandas==1.1.3->-r requirements.txt (line 1)) (1.15.0)\n"
     ]
    }
   ],
   "source": [
    "!pip install -r requirements.txt"
   ]
  },
  {
   "cell_type": "code",
   "execution_count": 2,
   "metadata": {},
   "outputs": [],
   "source": [
    "import pandas as pd\n",
    "import numpy as np\n",
    "import matplotlib.pyplot as plt\n",
    "import seaborn as sns\n",
    "\n",
    "from sklearn.model_selection import cross_val_score\n",
    "from sklearn.preprocessing import LabelEncoder\n",
    "from sklearn.tree import DecisionTreeClassifier\n",
    "from sklearn.neighbors import KNeighborsClassifier\n",
    "from sklearn.metrics import plot_confusion_matrix\n",
    "from sklearn.metrics import accuracy_score"
   ]
  },
  {
   "cell_type": "markdown",
   "metadata": {},
   "source": [
    "### Caricamento dataset"
   ]
  },
  {
   "cell_type": "code",
   "execution_count": 3,
   "metadata": {},
   "outputs": [],
   "source": [
    "train_set=pd.read_csv(\"train.csv\")\n",
    "test_set=pd.read_csv(\"test.csv\")"
   ]
  },
  {
   "cell_type": "markdown",
   "metadata": {},
   "source": [
    "### Prima analisi del dataset"
   ]
  },
  {
   "cell_type": "code",
   "execution_count": 4,
   "metadata": {},
   "outputs": [
    {
     "data": {
      "text/html": [
       "<div>\n",
       "<style scoped>\n",
       "    .dataframe tbody tr th:only-of-type {\n",
       "        vertical-align: middle;\n",
       "    }\n",
       "\n",
       "    .dataframe tbody tr th {\n",
       "        vertical-align: top;\n",
       "    }\n",
       "\n",
       "    .dataframe thead th {\n",
       "        text-align: right;\n",
       "    }\n",
       "</style>\n",
       "<table border=\"1\" class=\"dataframe\">\n",
       "  <thead>\n",
       "    <tr style=\"text-align: right;\">\n",
       "      <th></th>\n",
       "      <th>Winner</th>\n",
       "      <th>First_pokemon</th>\n",
       "      <th>Second_pokemon</th>\n",
       "    </tr>\n",
       "  </thead>\n",
       "  <tbody>\n",
       "    <tr>\n",
       "      <th>0</th>\n",
       "      <td>421</td>\n",
       "      <td>568</td>\n",
       "      <td>421</td>\n",
       "    </tr>\n",
       "    <tr>\n",
       "      <th>1</th>\n",
       "      <td>748</td>\n",
       "      <td>124</td>\n",
       "      <td>748</td>\n",
       "    </tr>\n",
       "    <tr>\n",
       "      <th>2</th>\n",
       "      <td>648</td>\n",
       "      <td>648</td>\n",
       "      <td>129</td>\n",
       "    </tr>\n",
       "    <tr>\n",
       "      <th>3</th>\n",
       "      <td>16</td>\n",
       "      <td>16</td>\n",
       "      <td>571</td>\n",
       "    </tr>\n",
       "    <tr>\n",
       "      <th>4</th>\n",
       "      <td>115</td>\n",
       "      <td>115</td>\n",
       "      <td>582</td>\n",
       "    </tr>\n",
       "  </tbody>\n",
       "</table>\n",
       "</div>"
      ],
      "text/plain": [
       "   Winner  First_pokemon  Second_pokemon\n",
       "0     421            568             421\n",
       "1     748            124             748\n",
       "2     648            648             129\n",
       "3      16             16             571\n",
       "4     115            115             582"
      ]
     },
     "execution_count": 4,
     "metadata": {},
     "output_type": "execute_result"
    }
   ],
   "source": [
    "train_set.head()"
   ]
  },
  {
   "cell_type": "code",
   "execution_count": 5,
   "metadata": {},
   "outputs": [
    {
     "data": {
      "text/html": [
       "<div>\n",
       "<style scoped>\n",
       "    .dataframe tbody tr th:only-of-type {\n",
       "        vertical-align: middle;\n",
       "    }\n",
       "\n",
       "    .dataframe tbody tr th {\n",
       "        vertical-align: top;\n",
       "    }\n",
       "\n",
       "    .dataframe thead th {\n",
       "        text-align: right;\n",
       "    }\n",
       "</style>\n",
       "<table border=\"1\" class=\"dataframe\">\n",
       "  <thead>\n",
       "    <tr style=\"text-align: right;\">\n",
       "      <th></th>\n",
       "      <th>Winner</th>\n",
       "      <th>First_pokemon</th>\n",
       "      <th>Second_pokemon</th>\n",
       "    </tr>\n",
       "  </thead>\n",
       "  <tbody>\n",
       "    <tr>\n",
       "      <th>0</th>\n",
       "      <td>302</td>\n",
       "      <td>302</td>\n",
       "      <td>759</td>\n",
       "    </tr>\n",
       "    <tr>\n",
       "      <th>1</th>\n",
       "      <td>131</td>\n",
       "      <td>131</td>\n",
       "      <td>169</td>\n",
       "    </tr>\n",
       "    <tr>\n",
       "      <th>2</th>\n",
       "      <td>492</td>\n",
       "      <td>399</td>\n",
       "      <td>492</td>\n",
       "    </tr>\n",
       "    <tr>\n",
       "      <th>3</th>\n",
       "      <td>570</td>\n",
       "      <td>570</td>\n",
       "      <td>689</td>\n",
       "    </tr>\n",
       "    <tr>\n",
       "      <th>4</th>\n",
       "      <td>197</td>\n",
       "      <td>399</td>\n",
       "      <td>197</td>\n",
       "    </tr>\n",
       "  </tbody>\n",
       "</table>\n",
       "</div>"
      ],
      "text/plain": [
       "   Winner  First_pokemon  Second_pokemon\n",
       "0     302            302             759\n",
       "1     131            131             169\n",
       "2     492            399             492\n",
       "3     570            570             689\n",
       "4     197            399             197"
      ]
     },
     "execution_count": 5,
     "metadata": {},
     "output_type": "execute_result"
    }
   ],
   "source": [
    "test_set.head()"
   ]
  },
  {
   "cell_type": "code",
   "execution_count": 6,
   "metadata": {},
   "outputs": [
    {
     "data": {
      "text/html": [
       "<div>\n",
       "<style scoped>\n",
       "    .dataframe tbody tr th:only-of-type {\n",
       "        vertical-align: middle;\n",
       "    }\n",
       "\n",
       "    .dataframe tbody tr th {\n",
       "        vertical-align: top;\n",
       "    }\n",
       "\n",
       "    .dataframe thead th {\n",
       "        text-align: right;\n",
       "    }\n",
       "</style>\n",
       "<table border=\"1\" class=\"dataframe\">\n",
       "  <thead>\n",
       "    <tr style=\"text-align: right;\">\n",
       "      <th></th>\n",
       "      <th>Winner</th>\n",
       "      <th>First_pokemon</th>\n",
       "      <th>Second_pokemon</th>\n",
       "    </tr>\n",
       "  </thead>\n",
       "  <tbody>\n",
       "    <tr>\n",
       "      <th>count</th>\n",
       "      <td>32000.000000</td>\n",
       "      <td>32000.000000</td>\n",
       "      <td>32000.000000</td>\n",
       "    </tr>\n",
       "    <tr>\n",
       "      <th>mean</th>\n",
       "      <td>408.765375</td>\n",
       "      <td>400.838094</td>\n",
       "      <td>403.410781</td>\n",
       "    </tr>\n",
       "    <tr>\n",
       "      <th>std</th>\n",
       "      <td>231.236790</td>\n",
       "      <td>229.994842</td>\n",
       "      <td>230.152860</td>\n",
       "    </tr>\n",
       "    <tr>\n",
       "      <th>min</th>\n",
       "      <td>1.000000</td>\n",
       "      <td>1.000000</td>\n",
       "      <td>1.000000</td>\n",
       "    </tr>\n",
       "    <tr>\n",
       "      <th>25%</th>\n",
       "      <td>206.000000</td>\n",
       "      <td>203.000000</td>\n",
       "      <td>208.000000</td>\n",
       "    </tr>\n",
       "    <tr>\n",
       "      <th>50%</th>\n",
       "      <td>422.000000</td>\n",
       "      <td>400.000000</td>\n",
       "      <td>403.000000</td>\n",
       "    </tr>\n",
       "    <tr>\n",
       "      <th>75%</th>\n",
       "      <td>606.000000</td>\n",
       "      <td>599.000000</td>\n",
       "      <td>603.000000</td>\n",
       "    </tr>\n",
       "    <tr>\n",
       "      <th>max</th>\n",
       "      <td>800.000000</td>\n",
       "      <td>800.000000</td>\n",
       "      <td>800.000000</td>\n",
       "    </tr>\n",
       "  </tbody>\n",
       "</table>\n",
       "</div>"
      ],
      "text/plain": [
       "             Winner  First_pokemon  Second_pokemon\n",
       "count  32000.000000   32000.000000    32000.000000\n",
       "mean     408.765375     400.838094      403.410781\n",
       "std      231.236790     229.994842      230.152860\n",
       "min        1.000000       1.000000        1.000000\n",
       "25%      206.000000     203.000000      208.000000\n",
       "50%      422.000000     400.000000      403.000000\n",
       "75%      606.000000     599.000000      603.000000\n",
       "max      800.000000     800.000000      800.000000"
      ]
     },
     "execution_count": 6,
     "metadata": {},
     "output_type": "execute_result"
    }
   ],
   "source": [
    "train_set.describe()"
   ]
  },
  {
   "cell_type": "code",
   "execution_count": 7,
   "metadata": {},
   "outputs": [
    {
     "data": {
      "text/html": [
       "<div>\n",
       "<style scoped>\n",
       "    .dataframe tbody tr th:only-of-type {\n",
       "        vertical-align: middle;\n",
       "    }\n",
       "\n",
       "    .dataframe tbody tr th {\n",
       "        vertical-align: top;\n",
       "    }\n",
       "\n",
       "    .dataframe thead th {\n",
       "        text-align: right;\n",
       "    }\n",
       "</style>\n",
       "<table border=\"1\" class=\"dataframe\">\n",
       "  <thead>\n",
       "    <tr style=\"text-align: right;\">\n",
       "      <th></th>\n",
       "      <th>Winner</th>\n",
       "      <th>First_pokemon</th>\n",
       "      <th>Second_pokemon</th>\n",
       "    </tr>\n",
       "  </thead>\n",
       "  <tbody>\n",
       "    <tr>\n",
       "      <th>count</th>\n",
       "      <td>8000.000000</td>\n",
       "      <td>8000.000000</td>\n",
       "      <td>8000.000000</td>\n",
       "    </tr>\n",
       "    <tr>\n",
       "      <th>mean</th>\n",
       "      <td>410.055875</td>\n",
       "      <td>402.314375</td>\n",
       "      <td>400.909875</td>\n",
       "    </tr>\n",
       "    <tr>\n",
       "      <th>std</th>\n",
       "      <td>231.311626</td>\n",
       "      <td>229.845478</td>\n",
       "      <td>230.307867</td>\n",
       "    </tr>\n",
       "    <tr>\n",
       "      <th>min</th>\n",
       "      <td>1.000000</td>\n",
       "      <td>1.000000</td>\n",
       "      <td>1.000000</td>\n",
       "    </tr>\n",
       "    <tr>\n",
       "      <th>25%</th>\n",
       "      <td>205.000000</td>\n",
       "      <td>205.000000</td>\n",
       "      <td>201.000000</td>\n",
       "    </tr>\n",
       "    <tr>\n",
       "      <th>50%</th>\n",
       "      <td>423.000000</td>\n",
       "      <td>401.000000</td>\n",
       "      <td>399.000000</td>\n",
       "    </tr>\n",
       "    <tr>\n",
       "      <th>75%</th>\n",
       "      <td>608.000000</td>\n",
       "      <td>600.000000</td>\n",
       "      <td>601.000000</td>\n",
       "    </tr>\n",
       "    <tr>\n",
       "      <th>max</th>\n",
       "      <td>800.000000</td>\n",
       "      <td>800.000000</td>\n",
       "      <td>800.000000</td>\n",
       "    </tr>\n",
       "  </tbody>\n",
       "</table>\n",
       "</div>"
      ],
      "text/plain": [
       "            Winner  First_pokemon  Second_pokemon\n",
       "count  8000.000000    8000.000000     8000.000000\n",
       "mean    410.055875     402.314375      400.909875\n",
       "std     231.311626     229.845478      230.307867\n",
       "min       1.000000       1.000000        1.000000\n",
       "25%     205.000000     205.000000      201.000000\n",
       "50%     423.000000     401.000000      399.000000\n",
       "75%     608.000000     600.000000      601.000000\n",
       "max     800.000000     800.000000      800.000000"
      ]
     },
     "execution_count": 7,
     "metadata": {},
     "output_type": "execute_result"
    }
   ],
   "source": [
    "test_set.describe()"
   ]
  },
  {
   "cell_type": "markdown",
   "metadata": {},
   "source": [
    "Essendo il dataset composto da semplici identificatori non si può ricavare nulla da questi dati."
   ]
  },
  {
   "cell_type": "code",
   "execution_count": 8,
   "metadata": {},
   "outputs": [
    {
     "name": "stdout",
     "output_type": "stream",
     "text": [
      "Colonne del train_set: ['Winner', 'First_pokemon', 'Second_pokemon']\n"
     ]
    }
   ],
   "source": [
    "print(f\"Colonne del train_set: {list(train_set)}\")"
   ]
  },
  {
   "cell_type": "code",
   "execution_count": 9,
   "metadata": {
    "scrolled": true
   },
   "outputs": [
    {
     "data": {
      "text/plain": [
       "Winner            783\n",
       "First_pokemon     784\n",
       "Second_pokemon    784\n",
       "dtype: int64"
      ]
     },
     "execution_count": 9,
     "metadata": {},
     "output_type": "execute_result"
    }
   ],
   "source": [
    "train_set.nunique()"
   ]
  },
  {
   "cell_type": "code",
   "execution_count": 10,
   "metadata": {
    "scrolled": false
   },
   "outputs": [
    {
     "name": "stdout",
     "output_type": "stream",
     "text": [
      "<class 'pandas.core.frame.DataFrame'>\n",
      "RangeIndex: 32000 entries, 0 to 31999\n",
      "Data columns (total 3 columns):\n",
      " #   Column          Non-Null Count  Dtype\n",
      "---  ------          --------------  -----\n",
      " 0   Winner          32000 non-null  int64\n",
      " 1   First_pokemon   32000 non-null  int64\n",
      " 2   Second_pokemon  32000 non-null  int64\n",
      "dtypes: int64(3)\n",
      "memory usage: 750.1 KB\n"
     ]
    }
   ],
   "source": [
    "train_set.info()"
   ]
  },
  {
   "cell_type": "markdown",
   "metadata": {},
   "source": [
    "Da degli ID ci si aspetta dei dati numerici e così avviene effettivamente"
   ]
  },
  {
   "cell_type": "code",
   "execution_count": 11,
   "metadata": {},
   "outputs": [],
   "source": [
    "def get_null_elements_counter(train_set, test_set):\n",
    "    print(f\"Valori null nel train_set: \\n{train_set.isna().sum()}\")\n",
    "    print(\"\\n*-*-*-*-*-*-*-*\\n\")\n",
    "    print(f\"Valori null nel test_set: \\n{test_set.isna().sum()}\")"
   ]
  },
  {
   "cell_type": "code",
   "execution_count": 12,
   "metadata": {},
   "outputs": [
    {
     "name": "stdout",
     "output_type": "stream",
     "text": [
      "Valori null nel train_set: \n",
      "Winner            0\n",
      "First_pokemon     0\n",
      "Second_pokemon    0\n",
      "dtype: int64\n",
      "\n",
      "*-*-*-*-*-*-*-*\n",
      "\n",
      "Valori null nel test_set: \n",
      "Winner            0\n",
      "First_pokemon     0\n",
      "Second_pokemon    0\n",
      "dtype: int64\n"
     ]
    }
   ],
   "source": [
    "get_null_elements_counter(train_set, test_set)"
   ]
  },
  {
   "cell_type": "markdown",
   "metadata": {},
   "source": [
    "Non sono presenti valori **null** nel dataset a noi consegnato. In ogni caso si procede a un'eliminazione di eventuali valori nulli nel dataset completo"
   ]
  },
  {
   "cell_type": "code",
   "execution_count": 13,
   "metadata": {},
   "outputs": [],
   "source": [
    "train_set.dropna(inplace=True)\n",
    "test_set.dropna(inplace=True)"
   ]
  },
  {
   "cell_type": "code",
   "execution_count": 14,
   "metadata": {},
   "outputs": [
    {
     "name": "stdout",
     "output_type": "stream",
     "text": [
      "Valori null nel train_set: \n",
      "Winner            0\n",
      "First_pokemon     0\n",
      "Second_pokemon    0\n",
      "dtype: int64\n",
      "\n",
      "*-*-*-*-*-*-*-*\n",
      "\n",
      "Valori null nel test_set: \n",
      "Winner            0\n",
      "First_pokemon     0\n",
      "Second_pokemon    0\n",
      "dtype: int64\n"
     ]
    }
   ],
   "source": [
    "get_null_elements_counter(train_set, test_set)"
   ]
  },
  {
   "cell_type": "markdown",
   "metadata": {},
   "source": [
    "A questo punto dobbiamo andare a introdurre i dati relativi alle statistiche dei Pokemon. È fondamentale questa parte, altrimenti verrebbe un classificatore che non predice in base alle caratteristiche degli sfidanti ma in base ai loro ID."
   ]
  },
  {
   "cell_type": "code",
   "execution_count": 15,
   "metadata": {},
   "outputs": [],
   "source": [
    "pokemon_stats = pd.read_csv(\"pokemon.csv\")"
   ]
  },
  {
   "cell_type": "code",
   "execution_count": 16,
   "metadata": {},
   "outputs": [
    {
     "data": {
      "text/html": [
       "<div>\n",
       "<style scoped>\n",
       "    .dataframe tbody tr th:only-of-type {\n",
       "        vertical-align: middle;\n",
       "    }\n",
       "\n",
       "    .dataframe tbody tr th {\n",
       "        vertical-align: top;\n",
       "    }\n",
       "\n",
       "    .dataframe thead th {\n",
       "        text-align: right;\n",
       "    }\n",
       "</style>\n",
       "<table border=\"1\" class=\"dataframe\">\n",
       "  <thead>\n",
       "    <tr style=\"text-align: right;\">\n",
       "      <th></th>\n",
       "      <th>Winner</th>\n",
       "      <th>First_pokemon</th>\n",
       "      <th>Second_pokemon</th>\n",
       "      <th>#_first</th>\n",
       "      <th>Name_first</th>\n",
       "      <th>Type 1_first</th>\n",
       "      <th>Type 2_first</th>\n",
       "      <th>HP_first</th>\n",
       "      <th>Attack_first</th>\n",
       "      <th>Defense_first</th>\n",
       "      <th>...</th>\n",
       "      <th>Type 1_second</th>\n",
       "      <th>Type 2_second</th>\n",
       "      <th>HP_second</th>\n",
       "      <th>Attack_second</th>\n",
       "      <th>Defense_second</th>\n",
       "      <th>Sp. Atk_second</th>\n",
       "      <th>Sp. Def_second</th>\n",
       "      <th>Speed_second</th>\n",
       "      <th>Generation_second</th>\n",
       "      <th>Legendary_second</th>\n",
       "    </tr>\n",
       "  </thead>\n",
       "  <tbody>\n",
       "    <tr>\n",
       "      <th>0</th>\n",
       "      <td>421</td>\n",
       "      <td>568</td>\n",
       "      <td>421</td>\n",
       "      <td>568</td>\n",
       "      <td>Stoutland</td>\n",
       "      <td>Normal</td>\n",
       "      <td>NaN</td>\n",
       "      <td>85</td>\n",
       "      <td>110</td>\n",
       "      <td>90</td>\n",
       "      <td>...</td>\n",
       "      <td>Dragon</td>\n",
       "      <td>Psychic</td>\n",
       "      <td>80</td>\n",
       "      <td>130</td>\n",
       "      <td>100</td>\n",
       "      <td>160</td>\n",
       "      <td>120</td>\n",
       "      <td>110</td>\n",
       "      <td>3</td>\n",
       "      <td>True</td>\n",
       "    </tr>\n",
       "    <tr>\n",
       "      <th>1</th>\n",
       "      <td>421</td>\n",
       "      <td>100</td>\n",
       "      <td>421</td>\n",
       "      <td>100</td>\n",
       "      <td>Gastly</td>\n",
       "      <td>Ghost</td>\n",
       "      <td>Poison</td>\n",
       "      <td>30</td>\n",
       "      <td>35</td>\n",
       "      <td>30</td>\n",
       "      <td>...</td>\n",
       "      <td>Dragon</td>\n",
       "      <td>Psychic</td>\n",
       "      <td>80</td>\n",
       "      <td>130</td>\n",
       "      <td>100</td>\n",
       "      <td>160</td>\n",
       "      <td>120</td>\n",
       "      <td>110</td>\n",
       "      <td>3</td>\n",
       "      <td>True</td>\n",
       "    </tr>\n",
       "    <tr>\n",
       "      <th>2</th>\n",
       "      <td>421</td>\n",
       "      <td>247</td>\n",
       "      <td>421</td>\n",
       "      <td>247</td>\n",
       "      <td>Houndour</td>\n",
       "      <td>Dark</td>\n",
       "      <td>Fire</td>\n",
       "      <td>45</td>\n",
       "      <td>60</td>\n",
       "      <td>30</td>\n",
       "      <td>...</td>\n",
       "      <td>Dragon</td>\n",
       "      <td>Psychic</td>\n",
       "      <td>80</td>\n",
       "      <td>130</td>\n",
       "      <td>100</td>\n",
       "      <td>160</td>\n",
       "      <td>120</td>\n",
       "      <td>110</td>\n",
       "      <td>3</td>\n",
       "      <td>True</td>\n",
       "    </tr>\n",
       "    <tr>\n",
       "      <th>3</th>\n",
       "      <td>421</td>\n",
       "      <td>45</td>\n",
       "      <td>421</td>\n",
       "      <td>45</td>\n",
       "      <td>Jigglypuff</td>\n",
       "      <td>Normal</td>\n",
       "      <td>Fairy</td>\n",
       "      <td>115</td>\n",
       "      <td>45</td>\n",
       "      <td>20</td>\n",
       "      <td>...</td>\n",
       "      <td>Dragon</td>\n",
       "      <td>Psychic</td>\n",
       "      <td>80</td>\n",
       "      <td>130</td>\n",
       "      <td>100</td>\n",
       "      <td>160</td>\n",
       "      <td>120</td>\n",
       "      <td>110</td>\n",
       "      <td>3</td>\n",
       "      <td>True</td>\n",
       "    </tr>\n",
       "    <tr>\n",
       "      <th>4</th>\n",
       "      <td>421</td>\n",
       "      <td>259</td>\n",
       "      <td>421</td>\n",
       "      <td>259</td>\n",
       "      <td>Elekid</td>\n",
       "      <td>Electric</td>\n",
       "      <td>NaN</td>\n",
       "      <td>45</td>\n",
       "      <td>63</td>\n",
       "      <td>37</td>\n",
       "      <td>...</td>\n",
       "      <td>Dragon</td>\n",
       "      <td>Psychic</td>\n",
       "      <td>80</td>\n",
       "      <td>130</td>\n",
       "      <td>100</td>\n",
       "      <td>160</td>\n",
       "      <td>120</td>\n",
       "      <td>110</td>\n",
       "      <td>3</td>\n",
       "      <td>True</td>\n",
       "    </tr>\n",
       "  </tbody>\n",
       "</table>\n",
       "<p>5 rows × 27 columns</p>\n",
       "</div>"
      ],
      "text/plain": [
       "   Winner  First_pokemon  Second_pokemon  #_first  Name_first Type 1_first  \\\n",
       "0     421            568             421      568   Stoutland       Normal   \n",
       "1     421            100             421      100      Gastly        Ghost   \n",
       "2     421            247             421      247    Houndour         Dark   \n",
       "3     421             45             421       45  Jigglypuff       Normal   \n",
       "4     421            259             421      259      Elekid     Electric   \n",
       "\n",
       "  Type 2_first  HP_first  Attack_first  Defense_first  ...  Type 1_second  \\\n",
       "0          NaN        85           110             90  ...         Dragon   \n",
       "1       Poison        30            35             30  ...         Dragon   \n",
       "2         Fire        45            60             30  ...         Dragon   \n",
       "3        Fairy       115            45             20  ...         Dragon   \n",
       "4          NaN        45            63             37  ...         Dragon   \n",
       "\n",
       "   Type 2_second  HP_second  Attack_second  Defense_second  Sp. Atk_second  \\\n",
       "0        Psychic         80            130             100             160   \n",
       "1        Psychic         80            130             100             160   \n",
       "2        Psychic         80            130             100             160   \n",
       "3        Psychic         80            130             100             160   \n",
       "4        Psychic         80            130             100             160   \n",
       "\n",
       "  Sp. Def_second Speed_second Generation_second  Legendary_second  \n",
       "0            120          110                 3              True  \n",
       "1            120          110                 3              True  \n",
       "2            120          110                 3              True  \n",
       "3            120          110                 3              True  \n",
       "4            120          110                 3              True  \n",
       "\n",
       "[5 rows x 27 columns]"
      ]
     },
     "execution_count": 16,
     "metadata": {},
     "output_type": "execute_result"
    }
   ],
   "source": [
    "merged_train_set = train_set.merge(pokemon_stats, left_on='First_pokemon', right_on='#')\n",
    "merged_test_set = test_set.merge(pokemon_stats, left_on='First_pokemon', right_on='#')\n",
    "merged_train_set = merged_train_set.merge(pokemon_stats, left_on='Second_pokemon', right_on='#', suffixes=('_first', '_second'))\n",
    "merged_test_set = merged_test_set.merge(pokemon_stats, left_on='Second_pokemon', right_on='#', suffixes=('_first', '_second'))\n",
    "merged_train_set.head()"
   ]
  },
  {
   "cell_type": "code",
   "execution_count": 17,
   "metadata": {},
   "outputs": [
    {
     "name": "stdout",
     "output_type": "stream",
     "text": [
      "Dopo queste merge abbiamo mooooolte colonne. Andiamo a identificarle tutte\n",
      "['Winner', 'First_pokemon', 'Second_pokemon', '#_first', 'Name_first', 'Type 1_first', 'Type 2_first', 'HP_first', 'Attack_first', 'Defense_first', 'Sp. Atk_first', 'Sp. Def_first', 'Speed_first', 'Generation_first', 'Legendary_first', '#_second', 'Name_second', 'Type 1_second', 'Type 2_second', 'HP_second', 'Attack_second', 'Defense_second', 'Sp. Atk_second', 'Sp. Def_second', 'Speed_second', 'Generation_second', 'Legendary_second']\n"
     ]
    }
   ],
   "source": [
    "print(f\"Dopo queste merge abbiamo mooooolte colonne. Andiamo a identificarle tutte\")\n",
    "print(f\"{list(merged_train_set)}\")"
   ]
  },
  {
   "cell_type": "markdown",
   "metadata": {},
   "source": [
    "Come si può vedere, sono presenti le colonne \"$\\#_{first/second}$\" corrispondenti ai vari \"First_pokemon\" e \"Second_pokemon\" che vanno di fatto a duplicare il dato. Vengono quindi cancellate le colonne \"$\\#_{first/second}$\". Inoltre si decide di rimuovere le feature \"Name\" in quanto non utile alla classificazione"
   ]
  },
  {
   "cell_type": "markdown",
   "metadata": {},
   "source": [
    "### Prima eliminazione di colonne ritenute poco utili"
   ]
  },
  {
   "cell_type": "markdown",
   "metadata": {},
   "source": [
    "Funzione per cancellare colonne"
   ]
  },
  {
   "cell_type": "code",
   "execution_count": 18,
   "metadata": {},
   "outputs": [],
   "source": [
    "def drop_clumns(datasets:list, columns):\n",
    "    for dataset in datasets:\n",
    "        dataset.drop(labels=columns, inplace=True, axis=1)"
   ]
  },
  {
   "cell_type": "code",
   "execution_count": 19,
   "metadata": {},
   "outputs": [],
   "source": [
    "to_drop = [\"#_first\", \"#_second\", 'Name_first', 'Name_second']\n",
    "drop_clumns([merged_train_set, merged_test_set], to_drop)"
   ]
  },
  {
   "cell_type": "code",
   "execution_count": 20,
   "metadata": {},
   "outputs": [
    {
     "name": "stdout",
     "output_type": "stream",
     "text": [
      "columns: ['Winner', 'First_pokemon', 'Second_pokemon', 'Type 1_first', 'Type 2_first', 'HP_first', 'Attack_first', 'Defense_first', 'Sp. Atk_first', 'Sp. Def_first', 'Speed_first', 'Generation_first', 'Legendary_first', 'Type 1_second', 'Type 2_second', 'HP_second', 'Attack_second', 'Defense_second', 'Sp. Atk_second', 'Sp. Def_second', 'Speed_second', 'Generation_second', 'Legendary_second']\n"
     ]
    }
   ],
   "source": [
    "print(f\"columns: {list(merged_train_set)}\")"
   ]
  },
  {
   "cell_type": "markdown",
   "metadata": {},
   "source": [
    "### Rimodulazione statistiche"
   ]
  },
  {
   "cell_type": "markdown",
   "metadata": {},
   "source": [
    "Le statistiche (HP, Attack, ecc...) prese così non sono molto utili. Se messe in correlazione possono acquisire maggiore efficacia"
   ]
  },
  {
   "cell_type": "code",
   "execution_count": 21,
   "metadata": {},
   "outputs": [],
   "source": [
    "def set_diff(datasets: list, columns: list):\n",
    "    for dataset in datasets:\n",
    "        for column in columns:\n",
    "            dataset[f\"{column}_diff\"] = dataset[f\"{column}_first\"].astype(int) - dataset[f\"{column}_second\"].astype(int)"
   ]
  },
  {
   "cell_type": "code",
   "execution_count": 22,
   "metadata": {},
   "outputs": [
    {
     "data": {
      "text/html": [
       "<div>\n",
       "<style scoped>\n",
       "    .dataframe tbody tr th:only-of-type {\n",
       "        vertical-align: middle;\n",
       "    }\n",
       "\n",
       "    .dataframe tbody tr th {\n",
       "        vertical-align: top;\n",
       "    }\n",
       "\n",
       "    .dataframe thead th {\n",
       "        text-align: right;\n",
       "    }\n",
       "</style>\n",
       "<table border=\"1\" class=\"dataframe\">\n",
       "  <thead>\n",
       "    <tr style=\"text-align: right;\">\n",
       "      <th></th>\n",
       "      <th>Winner</th>\n",
       "      <th>First_pokemon</th>\n",
       "      <th>Second_pokemon</th>\n",
       "      <th>Type 1_first</th>\n",
       "      <th>Type 2_first</th>\n",
       "      <th>HP_first</th>\n",
       "      <th>Attack_first</th>\n",
       "      <th>Defense_first</th>\n",
       "      <th>Sp. Atk_first</th>\n",
       "      <th>Sp. Def_first</th>\n",
       "      <th>...</th>\n",
       "      <th>Sp. Def_second</th>\n",
       "      <th>Speed_second</th>\n",
       "      <th>Generation_second</th>\n",
       "      <th>Legendary_second</th>\n",
       "      <th>HP_diff</th>\n",
       "      <th>Attack_diff</th>\n",
       "      <th>Defense_diff</th>\n",
       "      <th>Sp. Atk_diff</th>\n",
       "      <th>Sp. Def_diff</th>\n",
       "      <th>Speed_diff</th>\n",
       "    </tr>\n",
       "  </thead>\n",
       "  <tbody>\n",
       "    <tr>\n",
       "      <th>0</th>\n",
       "      <td>421</td>\n",
       "      <td>568</td>\n",
       "      <td>421</td>\n",
       "      <td>Normal</td>\n",
       "      <td>NaN</td>\n",
       "      <td>85</td>\n",
       "      <td>110</td>\n",
       "      <td>90</td>\n",
       "      <td>45</td>\n",
       "      <td>90</td>\n",
       "      <td>...</td>\n",
       "      <td>120</td>\n",
       "      <td>110</td>\n",
       "      <td>3</td>\n",
       "      <td>True</td>\n",
       "      <td>5</td>\n",
       "      <td>-20</td>\n",
       "      <td>-10</td>\n",
       "      <td>-115</td>\n",
       "      <td>-30</td>\n",
       "      <td>-30</td>\n",
       "    </tr>\n",
       "    <tr>\n",
       "      <th>1</th>\n",
       "      <td>421</td>\n",
       "      <td>100</td>\n",
       "      <td>421</td>\n",
       "      <td>Ghost</td>\n",
       "      <td>Poison</td>\n",
       "      <td>30</td>\n",
       "      <td>35</td>\n",
       "      <td>30</td>\n",
       "      <td>100</td>\n",
       "      <td>35</td>\n",
       "      <td>...</td>\n",
       "      <td>120</td>\n",
       "      <td>110</td>\n",
       "      <td>3</td>\n",
       "      <td>True</td>\n",
       "      <td>-50</td>\n",
       "      <td>-95</td>\n",
       "      <td>-70</td>\n",
       "      <td>-60</td>\n",
       "      <td>-85</td>\n",
       "      <td>-30</td>\n",
       "    </tr>\n",
       "    <tr>\n",
       "      <th>2</th>\n",
       "      <td>421</td>\n",
       "      <td>247</td>\n",
       "      <td>421</td>\n",
       "      <td>Dark</td>\n",
       "      <td>Fire</td>\n",
       "      <td>45</td>\n",
       "      <td>60</td>\n",
       "      <td>30</td>\n",
       "      <td>80</td>\n",
       "      <td>50</td>\n",
       "      <td>...</td>\n",
       "      <td>120</td>\n",
       "      <td>110</td>\n",
       "      <td>3</td>\n",
       "      <td>True</td>\n",
       "      <td>-35</td>\n",
       "      <td>-70</td>\n",
       "      <td>-70</td>\n",
       "      <td>-80</td>\n",
       "      <td>-70</td>\n",
       "      <td>-45</td>\n",
       "    </tr>\n",
       "    <tr>\n",
       "      <th>3</th>\n",
       "      <td>421</td>\n",
       "      <td>45</td>\n",
       "      <td>421</td>\n",
       "      <td>Normal</td>\n",
       "      <td>Fairy</td>\n",
       "      <td>115</td>\n",
       "      <td>45</td>\n",
       "      <td>20</td>\n",
       "      <td>45</td>\n",
       "      <td>25</td>\n",
       "      <td>...</td>\n",
       "      <td>120</td>\n",
       "      <td>110</td>\n",
       "      <td>3</td>\n",
       "      <td>True</td>\n",
       "      <td>35</td>\n",
       "      <td>-85</td>\n",
       "      <td>-80</td>\n",
       "      <td>-115</td>\n",
       "      <td>-95</td>\n",
       "      <td>-90</td>\n",
       "    </tr>\n",
       "    <tr>\n",
       "      <th>4</th>\n",
       "      <td>421</td>\n",
       "      <td>259</td>\n",
       "      <td>421</td>\n",
       "      <td>Electric</td>\n",
       "      <td>NaN</td>\n",
       "      <td>45</td>\n",
       "      <td>63</td>\n",
       "      <td>37</td>\n",
       "      <td>65</td>\n",
       "      <td>55</td>\n",
       "      <td>...</td>\n",
       "      <td>120</td>\n",
       "      <td>110</td>\n",
       "      <td>3</td>\n",
       "      <td>True</td>\n",
       "      <td>-35</td>\n",
       "      <td>-67</td>\n",
       "      <td>-63</td>\n",
       "      <td>-95</td>\n",
       "      <td>-65</td>\n",
       "      <td>-15</td>\n",
       "    </tr>\n",
       "  </tbody>\n",
       "</table>\n",
       "<p>5 rows × 29 columns</p>\n",
       "</div>"
      ],
      "text/plain": [
       "   Winner  First_pokemon  Second_pokemon Type 1_first Type 2_first  HP_first  \\\n",
       "0     421            568             421       Normal          NaN        85   \n",
       "1     421            100             421        Ghost       Poison        30   \n",
       "2     421            247             421         Dark         Fire        45   \n",
       "3     421             45             421       Normal        Fairy       115   \n",
       "4     421            259             421     Electric          NaN        45   \n",
       "\n",
       "   Attack_first  Defense_first  Sp. Atk_first  Sp. Def_first  ...  \\\n",
       "0           110             90             45             90  ...   \n",
       "1            35             30            100             35  ...   \n",
       "2            60             30             80             50  ...   \n",
       "3            45             20             45             25  ...   \n",
       "4            63             37             65             55  ...   \n",
       "\n",
       "   Sp. Def_second  Speed_second  Generation_second Legendary_second HP_diff  \\\n",
       "0             120           110                  3             True       5   \n",
       "1             120           110                  3             True     -50   \n",
       "2             120           110                  3             True     -35   \n",
       "3             120           110                  3             True      35   \n",
       "4             120           110                  3             True     -35   \n",
       "\n",
       "   Attack_diff  Defense_diff  Sp. Atk_diff  Sp. Def_diff  Speed_diff  \n",
       "0          -20           -10          -115           -30         -30  \n",
       "1          -95           -70           -60           -85         -30  \n",
       "2          -70           -70           -80           -70         -45  \n",
       "3          -85           -80          -115           -95         -90  \n",
       "4          -67           -63           -95           -65         -15  \n",
       "\n",
       "[5 rows x 29 columns]"
      ]
     },
     "execution_count": 22,
     "metadata": {},
     "output_type": "execute_result"
    }
   ],
   "source": [
    "to_diff = [\"HP\", \"Attack\", \"Defense\", \"Sp. Atk\", \"Sp. Def\", \"Speed\"]\n",
    "set_diff([merged_test_set, merged_train_set], to_diff)\n",
    "merged_train_set[[\"Attack_first\", \"Attack_second\", \"Attack_diff\"]]\n",
    "merged_train_set.head()"
   ]
  },
  {
   "cell_type": "markdown",
   "metadata": {},
   "source": [
    "Ora andiamo a togliere le colonne relative alle statistiche dei singoli pokemon"
   ]
  },
  {
   "cell_type": "code",
   "execution_count": 23,
   "metadata": {},
   "outputs": [
    {
     "name": "stdout",
     "output_type": "stream",
     "text": [
      "columns: ['Winner', 'First_pokemon', 'Second_pokemon', 'Type 1_first', 'Type 2_first', 'Generation_first', 'Legendary_first', 'Type 1_second', 'Type 2_second', 'Generation_second', 'Legendary_second', 'HP_diff', 'Attack_diff', 'Defense_diff', 'Sp. Atk_diff', 'Sp. Def_diff', 'Speed_diff']\n"
     ]
    }
   ],
   "source": [
    "to_drop = [\"HP_first\", \"HP_second\", \"Attack_first\", \"Attack_second\", \"Defense_first\", \"Defense_second\", \"Sp. Atk_first\", \"Sp. Atk_second\", \"Sp. Def_first\", \"Sp. Def_second\", \"Speed_first\", \"Speed_second\"]\n",
    "drop_clumns([merged_train_set, merged_test_set], to_drop)\n",
    "print(f\"columns: {list(merged_train_set)}\")"
   ]
  },
  {
   "cell_type": "code",
   "execution_count": 24,
   "metadata": {},
   "outputs": [
    {
     "data": {
      "text/html": [
       "<div>\n",
       "<style scoped>\n",
       "    .dataframe tbody tr th:only-of-type {\n",
       "        vertical-align: middle;\n",
       "    }\n",
       "\n",
       "    .dataframe tbody tr th {\n",
       "        vertical-align: top;\n",
       "    }\n",
       "\n",
       "    .dataframe thead th {\n",
       "        text-align: right;\n",
       "    }\n",
       "</style>\n",
       "<table border=\"1\" class=\"dataframe\">\n",
       "  <thead>\n",
       "    <tr style=\"text-align: right;\">\n",
       "      <th></th>\n",
       "      <th>Winner</th>\n",
       "      <th>First_pokemon</th>\n",
       "      <th>Second_pokemon</th>\n",
       "      <th>Generation_first</th>\n",
       "      <th>Generation_second</th>\n",
       "      <th>HP_diff</th>\n",
       "      <th>Attack_diff</th>\n",
       "      <th>Defense_diff</th>\n",
       "      <th>Sp. Atk_diff</th>\n",
       "      <th>Sp. Def_diff</th>\n",
       "      <th>Speed_diff</th>\n",
       "    </tr>\n",
       "  </thead>\n",
       "  <tbody>\n",
       "    <tr>\n",
       "      <th>count</th>\n",
       "      <td>32000.000000</td>\n",
       "      <td>32000.000000</td>\n",
       "      <td>32000.000000</td>\n",
       "      <td>32000.000000</td>\n",
       "      <td>32000.000000</td>\n",
       "      <td>32000.000000</td>\n",
       "      <td>32000.000000</td>\n",
       "      <td>32000.000000</td>\n",
       "      <td>32000.000000</td>\n",
       "      <td>32000.000000</td>\n",
       "      <td>32000.000000</td>\n",
       "    </tr>\n",
       "    <tr>\n",
       "      <th>mean</th>\n",
       "      <td>408.765375</td>\n",
       "      <td>400.838094</td>\n",
       "      <td>403.410781</td>\n",
       "      <td>3.323531</td>\n",
       "      <td>3.343594</td>\n",
       "      <td>-0.010250</td>\n",
       "      <td>-0.106531</td>\n",
       "      <td>0.057031</td>\n",
       "      <td>0.259531</td>\n",
       "      <td>-0.002656</td>\n",
       "      <td>-0.131969</td>\n",
       "    </tr>\n",
       "    <tr>\n",
       "      <th>std</th>\n",
       "      <td>231.236790</td>\n",
       "      <td>229.994842</td>\n",
       "      <td>230.152860</td>\n",
       "      <td>1.653937</td>\n",
       "      <td>1.654387</td>\n",
       "      <td>35.610282</td>\n",
       "      <td>46.131557</td>\n",
       "      <td>44.661559</td>\n",
       "      <td>46.286413</td>\n",
       "      <td>39.571935</td>\n",
       "      <td>41.430504</td>\n",
       "    </tr>\n",
       "    <tr>\n",
       "      <th>min</th>\n",
       "      <td>1.000000</td>\n",
       "      <td>1.000000</td>\n",
       "      <td>1.000000</td>\n",
       "      <td>1.000000</td>\n",
       "      <td>1.000000</td>\n",
       "      <td>-225.000000</td>\n",
       "      <td>-170.000000</td>\n",
       "      <td>-210.000000</td>\n",
       "      <td>-174.000000</td>\n",
       "      <td>-210.000000</td>\n",
       "      <td>-160.000000</td>\n",
       "    </tr>\n",
       "    <tr>\n",
       "      <th>25%</th>\n",
       "      <td>206.000000</td>\n",
       "      <td>203.000000</td>\n",
       "      <td>208.000000</td>\n",
       "      <td>2.000000</td>\n",
       "      <td>2.000000</td>\n",
       "      <td>-20.000000</td>\n",
       "      <td>-30.000000</td>\n",
       "      <td>-26.000000</td>\n",
       "      <td>-30.000000</td>\n",
       "      <td>-25.000000</td>\n",
       "      <td>-30.000000</td>\n",
       "    </tr>\n",
       "    <tr>\n",
       "      <th>50%</th>\n",
       "      <td>422.000000</td>\n",
       "      <td>400.000000</td>\n",
       "      <td>403.000000</td>\n",
       "      <td>3.000000</td>\n",
       "      <td>3.000000</td>\n",
       "      <td>0.000000</td>\n",
       "      <td>0.000000</td>\n",
       "      <td>0.000000</td>\n",
       "      <td>0.000000</td>\n",
       "      <td>0.000000</td>\n",
       "      <td>0.000000</td>\n",
       "    </tr>\n",
       "    <tr>\n",
       "      <th>75%</th>\n",
       "      <td>606.000000</td>\n",
       "      <td>599.000000</td>\n",
       "      <td>603.000000</td>\n",
       "      <td>5.000000</td>\n",
       "      <td>5.000000</td>\n",
       "      <td>20.000000</td>\n",
       "      <td>30.000000</td>\n",
       "      <td>27.000000</td>\n",
       "      <td>30.000000</td>\n",
       "      <td>25.000000</td>\n",
       "      <td>29.000000</td>\n",
       "    </tr>\n",
       "    <tr>\n",
       "      <th>max</th>\n",
       "      <td>800.000000</td>\n",
       "      <td>800.000000</td>\n",
       "      <td>800.000000</td>\n",
       "      <td>6.000000</td>\n",
       "      <td>6.000000</td>\n",
       "      <td>225.000000</td>\n",
       "      <td>175.000000</td>\n",
       "      <td>215.000000</td>\n",
       "      <td>179.000000</td>\n",
       "      <td>207.000000</td>\n",
       "      <td>165.000000</td>\n",
       "    </tr>\n",
       "  </tbody>\n",
       "</table>\n",
       "</div>"
      ],
      "text/plain": [
       "             Winner  First_pokemon  Second_pokemon  Generation_first  \\\n",
       "count  32000.000000   32000.000000    32000.000000      32000.000000   \n",
       "mean     408.765375     400.838094      403.410781          3.323531   \n",
       "std      231.236790     229.994842      230.152860          1.653937   \n",
       "min        1.000000       1.000000        1.000000          1.000000   \n",
       "25%      206.000000     203.000000      208.000000          2.000000   \n",
       "50%      422.000000     400.000000      403.000000          3.000000   \n",
       "75%      606.000000     599.000000      603.000000          5.000000   \n",
       "max      800.000000     800.000000      800.000000          6.000000   \n",
       "\n",
       "       Generation_second       HP_diff   Attack_diff  Defense_diff  \\\n",
       "count       32000.000000  32000.000000  32000.000000  32000.000000   \n",
       "mean            3.343594     -0.010250     -0.106531      0.057031   \n",
       "std             1.654387     35.610282     46.131557     44.661559   \n",
       "min             1.000000   -225.000000   -170.000000   -210.000000   \n",
       "25%             2.000000    -20.000000    -30.000000    -26.000000   \n",
       "50%             3.000000      0.000000      0.000000      0.000000   \n",
       "75%             5.000000     20.000000     30.000000     27.000000   \n",
       "max             6.000000    225.000000    175.000000    215.000000   \n",
       "\n",
       "       Sp. Atk_diff  Sp. Def_diff    Speed_diff  \n",
       "count  32000.000000  32000.000000  32000.000000  \n",
       "mean       0.259531     -0.002656     -0.131969  \n",
       "std       46.286413     39.571935     41.430504  \n",
       "min     -174.000000   -210.000000   -160.000000  \n",
       "25%      -30.000000    -25.000000    -30.000000  \n",
       "50%        0.000000      0.000000      0.000000  \n",
       "75%       30.000000     25.000000     29.000000  \n",
       "max      179.000000    207.000000    165.000000  "
      ]
     },
     "execution_count": 24,
     "metadata": {},
     "output_type": "execute_result"
    }
   ],
   "source": [
    "merged_train_set.describe()"
   ]
  },
  {
   "cell_type": "code",
   "execution_count": 25,
   "metadata": {},
   "outputs": [
    {
     "data": {
      "text/plain": [
       "Winner               783\n",
       "First_pokemon        784\n",
       "Second_pokemon       784\n",
       "Type 1_first          18\n",
       "Type 2_first          18\n",
       "Generation_first       6\n",
       "Legendary_first        2\n",
       "Type 1_second         18\n",
       "Type 2_second         18\n",
       "Generation_second      6\n",
       "Legendary_second       2\n",
       "HP_diff              303\n",
       "Attack_diff          292\n",
       "Defense_diff         349\n",
       "Sp. Atk_diff         311\n",
       "Sp. Def_diff         301\n",
       "Speed_diff           267\n",
       "dtype: int64"
      ]
     },
     "execution_count": 25,
     "metadata": {},
     "output_type": "execute_result"
    }
   ],
   "source": [
    "merged_train_set.nunique()"
   ]
  },
  {
   "cell_type": "code",
   "execution_count": 26,
   "metadata": {},
   "outputs": [
    {
     "name": "stdout",
     "output_type": "stream",
     "text": [
      "<class 'pandas.core.frame.DataFrame'>\n",
      "Int64Index: 32000 entries, 0 to 31999\n",
      "Data columns (total 17 columns):\n",
      " #   Column             Non-Null Count  Dtype \n",
      "---  ------             --------------  ----- \n",
      " 0   Winner             32000 non-null  int64 \n",
      " 1   First_pokemon      32000 non-null  int64 \n",
      " 2   Second_pokemon     32000 non-null  int64 \n",
      " 3   Type 1_first       32000 non-null  object\n",
      " 4   Type 2_first       16648 non-null  object\n",
      " 5   Generation_first   32000 non-null  int64 \n",
      " 6   Legendary_first    32000 non-null  bool  \n",
      " 7   Type 1_second      32000 non-null  object\n",
      " 8   Type 2_second      16709 non-null  object\n",
      " 9   Generation_second  32000 non-null  int64 \n",
      " 10  Legendary_second   32000 non-null  bool  \n",
      " 11  HP_diff            32000 non-null  int64 \n",
      " 12  Attack_diff        32000 non-null  int64 \n",
      " 13  Defense_diff       32000 non-null  int64 \n",
      " 14  Sp. Atk_diff       32000 non-null  int64 \n",
      " 15  Sp. Def_diff       32000 non-null  int64 \n",
      " 16  Speed_diff         32000 non-null  int64 \n",
      "dtypes: bool(2), int64(11), object(4)\n",
      "memory usage: 4.0+ MB\n"
     ]
    }
   ],
   "source": [
    "merged_train_set.info()"
   ]
  },
  {
   "cell_type": "code",
   "execution_count": 27,
   "metadata": {},
   "outputs": [
    {
     "name": "stdout",
     "output_type": "stream",
     "text": [
      "Valori null nel train_set: \n",
      "Winner                   0\n",
      "First_pokemon            0\n",
      "Second_pokemon           0\n",
      "Type 1_first             0\n",
      "Type 2_first         15352\n",
      "Generation_first         0\n",
      "Legendary_first          0\n",
      "Type 1_second            0\n",
      "Type 2_second        15291\n",
      "Generation_second        0\n",
      "Legendary_second         0\n",
      "HP_diff                  0\n",
      "Attack_diff              0\n",
      "Defense_diff             0\n",
      "Sp. Atk_diff             0\n",
      "Sp. Def_diff             0\n",
      "Speed_diff               0\n",
      "dtype: int64\n",
      "\n",
      "*-*-*-*-*-*-*-*\n",
      "\n",
      "Valori null nel test_set: \n",
      "Winner                  0\n",
      "First_pokemon           0\n",
      "Second_pokemon          0\n",
      "Type 1_first            0\n",
      "Type 2_first         3912\n",
      "Generation_first        0\n",
      "Legendary_first         0\n",
      "Type 1_second           0\n",
      "Type 2_second        3892\n",
      "Generation_second       0\n",
      "Legendary_second        0\n",
      "HP_diff                 0\n",
      "Attack_diff             0\n",
      "Defense_diff            0\n",
      "Sp. Atk_diff            0\n",
      "Sp. Def_diff            0\n",
      "Speed_diff              0\n",
      "dtype: int64\n"
     ]
    }
   ],
   "source": [
    "get_null_elements_counter(merged_train_set, merged_test_set)"
   ]
  },
  {
   "cell_type": "markdown",
   "metadata": {},
   "source": [
    "### Gestione \"Type 2\""
   ]
  },
  {
   "cell_type": "markdown",
   "metadata": {},
   "source": [
    "Non tutti i pokemon hanno l'attributo **Type 2**. Andare a cancellare la riga in cui è assente è alquanto deleterio (perderei tutte le informazioni su tali pokemon), le strategie possibili sono tre:\n",
    "\n",
    "- inserire un tipo fasullo (avrei detto \"folletto\", ma Game Freak mi ha anticipato)\n",
    "- eliminare completamente la feature\n",
    "- duplicare il primo tipo, presente in tutti i mostriciattoli tascabili\n",
    "\n",
    "Si sceglie di percorrere la terza via per non andare a introdurre del potenziale rumore o eliminare informazioni potenzialmente utili"
   ]
  },
  {
   "cell_type": "code",
   "execution_count": 28,
   "metadata": {},
   "outputs": [],
   "source": [
    "merged_train_set[\"Type 2_first\"] = merged_train_set.apply(lambda x: x['Type 1_first'] if pd.isnull(x['Type 2_first']) else x['Type 2_first'], axis=1)\n",
    "merged_train_set[\"Type 2_second\"] = merged_train_set.apply(lambda x: x['Type 1_second'] if pd.isnull(x['Type 2_second']) else x['Type 2_second'], axis=1)\n",
    "merged_test_set[\"Type 2_first\"] = merged_train_set.apply(lambda x: x['Type 1_first'] if pd.isnull(x['Type 2_first']) else x['Type 2_first'], axis=1)\n",
    "merged_test_set[\"Type 2_second\"] = merged_train_set.apply(lambda x: x['Type 1_second'] if pd.isnull(x['Type 2_second']) else x['Type 2_second'], axis=1)"
   ]
  },
  {
   "cell_type": "code",
   "execution_count": 29,
   "metadata": {},
   "outputs": [
    {
     "name": "stdout",
     "output_type": "stream",
     "text": [
      "Valori null nel train_set: \n",
      "Winner               0\n",
      "First_pokemon        0\n",
      "Second_pokemon       0\n",
      "Type 1_first         0\n",
      "Type 2_first         0\n",
      "Generation_first     0\n",
      "Legendary_first      0\n",
      "Type 1_second        0\n",
      "Type 2_second        0\n",
      "Generation_second    0\n",
      "Legendary_second     0\n",
      "HP_diff              0\n",
      "Attack_diff          0\n",
      "Defense_diff         0\n",
      "Sp. Atk_diff         0\n",
      "Sp. Def_diff         0\n",
      "Speed_diff           0\n",
      "dtype: int64\n",
      "\n",
      "*-*-*-*-*-*-*-*\n",
      "\n",
      "Valori null nel test_set: \n",
      "Winner               0\n",
      "First_pokemon        0\n",
      "Second_pokemon       0\n",
      "Type 1_first         0\n",
      "Type 2_first         0\n",
      "Generation_first     0\n",
      "Legendary_first      0\n",
      "Type 1_second        0\n",
      "Type 2_second        0\n",
      "Generation_second    0\n",
      "Legendary_second     0\n",
      "HP_diff              0\n",
      "Attack_diff          0\n",
      "Defense_diff         0\n",
      "Sp. Atk_diff         0\n",
      "Sp. Def_diff         0\n",
      "Speed_diff           0\n",
      "dtype: int64\n"
     ]
    }
   ],
   "source": [
    "get_null_elements_counter(merged_train_set, merged_test_set)"
   ]
  },
  {
   "cell_type": "markdown",
   "metadata": {},
   "source": [
    "### Trasformazione \"Winner\" in 0/1"
   ]
  },
  {
   "cell_type": "markdown",
   "metadata": {},
   "source": [
    "\"Winner\" indica l'ID del pokemon che vince. Per non portarci dietro quest'informazione si è scelto di assegnare a tale feature un valore binario che andrà ad indicare se il trionfante è il primo pokemon (0) o il secondo (1)"
   ]
  },
  {
   "cell_type": "code",
   "execution_count": 30,
   "metadata": {},
   "outputs": [],
   "source": [
    "first_win = (merged_train_set.Winner == merged_train_set.First_pokemon)\n",
    "merged_train_set.loc[first_win, 'Winner']='0'\n",
    "second_win = (merged_train_set.Winner == merged_train_set.Second_pokemon)\n",
    "merged_train_set.loc[second_win, 'Winner']='1'\n",
    "\n",
    "first_win = (merged_test_set.Winner == merged_test_set.First_pokemon)\n",
    "merged_test_set.loc[first_win, 'Winner']='0'\n",
    "second_win = (merged_test_set.Winner == merged_test_set.Second_pokemon)\n",
    "merged_test_set.loc[second_win, 'Winner']='1'"
   ]
  },
  {
   "cell_type": "code",
   "execution_count": 31,
   "metadata": {
    "scrolled": true
   },
   "outputs": [
    {
     "data": {
      "text/html": [
       "<div>\n",
       "<style scoped>\n",
       "    .dataframe tbody tr th:only-of-type {\n",
       "        vertical-align: middle;\n",
       "    }\n",
       "\n",
       "    .dataframe tbody tr th {\n",
       "        vertical-align: top;\n",
       "    }\n",
       "\n",
       "    .dataframe thead th {\n",
       "        text-align: right;\n",
       "    }\n",
       "</style>\n",
       "<table border=\"1\" class=\"dataframe\">\n",
       "  <thead>\n",
       "    <tr style=\"text-align: right;\">\n",
       "      <th></th>\n",
       "      <th>Winner</th>\n",
       "      <th>First_pokemon</th>\n",
       "      <th>Second_pokemon</th>\n",
       "      <th>Type 1_first</th>\n",
       "      <th>Type 2_first</th>\n",
       "      <th>Generation_first</th>\n",
       "      <th>Legendary_first</th>\n",
       "      <th>Type 1_second</th>\n",
       "      <th>Type 2_second</th>\n",
       "      <th>Generation_second</th>\n",
       "      <th>Legendary_second</th>\n",
       "      <th>HP_diff</th>\n",
       "      <th>Attack_diff</th>\n",
       "      <th>Defense_diff</th>\n",
       "      <th>Sp. Atk_diff</th>\n",
       "      <th>Sp. Def_diff</th>\n",
       "      <th>Speed_diff</th>\n",
       "    </tr>\n",
       "  </thead>\n",
       "  <tbody>\n",
       "    <tr>\n",
       "      <th>0</th>\n",
       "      <td>1</td>\n",
       "      <td>568</td>\n",
       "      <td>421</td>\n",
       "      <td>Normal</td>\n",
       "      <td>Normal</td>\n",
       "      <td>5</td>\n",
       "      <td>False</td>\n",
       "      <td>Dragon</td>\n",
       "      <td>Psychic</td>\n",
       "      <td>3</td>\n",
       "      <td>True</td>\n",
       "      <td>5</td>\n",
       "      <td>-20</td>\n",
       "      <td>-10</td>\n",
       "      <td>-115</td>\n",
       "      <td>-30</td>\n",
       "      <td>-30</td>\n",
       "    </tr>\n",
       "    <tr>\n",
       "      <th>1</th>\n",
       "      <td>1</td>\n",
       "      <td>100</td>\n",
       "      <td>421</td>\n",
       "      <td>Ghost</td>\n",
       "      <td>Poison</td>\n",
       "      <td>1</td>\n",
       "      <td>False</td>\n",
       "      <td>Dragon</td>\n",
       "      <td>Psychic</td>\n",
       "      <td>3</td>\n",
       "      <td>True</td>\n",
       "      <td>-50</td>\n",
       "      <td>-95</td>\n",
       "      <td>-70</td>\n",
       "      <td>-60</td>\n",
       "      <td>-85</td>\n",
       "      <td>-30</td>\n",
       "    </tr>\n",
       "    <tr>\n",
       "      <th>2</th>\n",
       "      <td>1</td>\n",
       "      <td>247</td>\n",
       "      <td>421</td>\n",
       "      <td>Dark</td>\n",
       "      <td>Fire</td>\n",
       "      <td>2</td>\n",
       "      <td>False</td>\n",
       "      <td>Dragon</td>\n",
       "      <td>Psychic</td>\n",
       "      <td>3</td>\n",
       "      <td>True</td>\n",
       "      <td>-35</td>\n",
       "      <td>-70</td>\n",
       "      <td>-70</td>\n",
       "      <td>-80</td>\n",
       "      <td>-70</td>\n",
       "      <td>-45</td>\n",
       "    </tr>\n",
       "    <tr>\n",
       "      <th>3</th>\n",
       "      <td>1</td>\n",
       "      <td>45</td>\n",
       "      <td>421</td>\n",
       "      <td>Normal</td>\n",
       "      <td>Fairy</td>\n",
       "      <td>1</td>\n",
       "      <td>False</td>\n",
       "      <td>Dragon</td>\n",
       "      <td>Psychic</td>\n",
       "      <td>3</td>\n",
       "      <td>True</td>\n",
       "      <td>35</td>\n",
       "      <td>-85</td>\n",
       "      <td>-80</td>\n",
       "      <td>-115</td>\n",
       "      <td>-95</td>\n",
       "      <td>-90</td>\n",
       "    </tr>\n",
       "    <tr>\n",
       "      <th>4</th>\n",
       "      <td>1</td>\n",
       "      <td>259</td>\n",
       "      <td>421</td>\n",
       "      <td>Electric</td>\n",
       "      <td>Electric</td>\n",
       "      <td>2</td>\n",
       "      <td>False</td>\n",
       "      <td>Dragon</td>\n",
       "      <td>Psychic</td>\n",
       "      <td>3</td>\n",
       "      <td>True</td>\n",
       "      <td>-35</td>\n",
       "      <td>-67</td>\n",
       "      <td>-63</td>\n",
       "      <td>-95</td>\n",
       "      <td>-65</td>\n",
       "      <td>-15</td>\n",
       "    </tr>\n",
       "  </tbody>\n",
       "</table>\n",
       "</div>"
      ],
      "text/plain": [
       "  Winner  First_pokemon  Second_pokemon Type 1_first Type 2_first  \\\n",
       "0      1            568             421       Normal       Normal   \n",
       "1      1            100             421        Ghost       Poison   \n",
       "2      1            247             421         Dark         Fire   \n",
       "3      1             45             421       Normal        Fairy   \n",
       "4      1            259             421     Electric     Electric   \n",
       "\n",
       "   Generation_first  Legendary_first Type 1_second Type 2_second  \\\n",
       "0                 5            False        Dragon       Psychic   \n",
       "1                 1            False        Dragon       Psychic   \n",
       "2                 2            False        Dragon       Psychic   \n",
       "3                 1            False        Dragon       Psychic   \n",
       "4                 2            False        Dragon       Psychic   \n",
       "\n",
       "   Generation_second  Legendary_second  HP_diff  Attack_diff  Defense_diff  \\\n",
       "0                  3              True        5          -20           -10   \n",
       "1                  3              True      -50          -95           -70   \n",
       "2                  3              True      -35          -70           -70   \n",
       "3                  3              True       35          -85           -80   \n",
       "4                  3              True      -35          -67           -63   \n",
       "\n",
       "   Sp. Atk_diff  Sp. Def_diff  Speed_diff  \n",
       "0          -115           -30         -30  \n",
       "1           -60           -85         -30  \n",
       "2           -80           -70         -45  \n",
       "3          -115           -95         -90  \n",
       "4           -95           -65         -15  "
      ]
     },
     "execution_count": 31,
     "metadata": {},
     "output_type": "execute_result"
    }
   ],
   "source": [
    "merged_train_set.head()"
   ]
  },
  {
   "cell_type": "markdown",
   "metadata": {},
   "source": [
    "### Encoding e correlazione delle feature"
   ]
  },
  {
   "cell_type": "code",
   "execution_count": 32,
   "metadata": {},
   "outputs": [],
   "source": [
    "def label_encoder(datasets):\n",
    "    output_datasets = []\n",
    "    encoder = LabelEncoder()\n",
    "    for dataset in datasets:\n",
    "        s = (dataset.dtypes == 'object')\n",
    "        object_cols = list(s[s].index)\n",
    "        label_dataset = dataset.copy()\n",
    "        for col in object_cols:\n",
    "            label_dataset[col] = encoder.fit_transform(label_dataset[col])\n",
    "        output_datasets.append(label_dataset)\n",
    "    return output_datasets"
   ]
  },
  {
   "cell_type": "code",
   "execution_count": 33,
   "metadata": {},
   "outputs": [],
   "source": [
    "label_train, label_test = label_encoder([merged_train_set, merged_test_set])"
   ]
  },
  {
   "cell_type": "code",
   "execution_count": 34,
   "metadata": {},
   "outputs": [
    {
     "data": {
      "text/html": [
       "<div>\n",
       "<style scoped>\n",
       "    .dataframe tbody tr th:only-of-type {\n",
       "        vertical-align: middle;\n",
       "    }\n",
       "\n",
       "    .dataframe tbody tr th {\n",
       "        vertical-align: top;\n",
       "    }\n",
       "\n",
       "    .dataframe thead th {\n",
       "        text-align: right;\n",
       "    }\n",
       "</style>\n",
       "<table border=\"1\" class=\"dataframe\">\n",
       "  <thead>\n",
       "    <tr style=\"text-align: right;\">\n",
       "      <th></th>\n",
       "      <th>Winner</th>\n",
       "      <th>First_pokemon</th>\n",
       "      <th>Second_pokemon</th>\n",
       "      <th>Type 1_first</th>\n",
       "      <th>Type 2_first</th>\n",
       "      <th>Generation_first</th>\n",
       "      <th>Legendary_first</th>\n",
       "      <th>Type 1_second</th>\n",
       "      <th>Type 2_second</th>\n",
       "      <th>Generation_second</th>\n",
       "      <th>Legendary_second</th>\n",
       "      <th>HP_diff</th>\n",
       "      <th>Attack_diff</th>\n",
       "      <th>Defense_diff</th>\n",
       "      <th>Sp. Atk_diff</th>\n",
       "      <th>Sp. Def_diff</th>\n",
       "      <th>Speed_diff</th>\n",
       "    </tr>\n",
       "  </thead>\n",
       "  <tbody>\n",
       "    <tr>\n",
       "      <th>0</th>\n",
       "      <td>1</td>\n",
       "      <td>568</td>\n",
       "      <td>421</td>\n",
       "      <td>12</td>\n",
       "      <td>12</td>\n",
       "      <td>5</td>\n",
       "      <td>False</td>\n",
       "      <td>2</td>\n",
       "      <td>14</td>\n",
       "      <td>3</td>\n",
       "      <td>True</td>\n",
       "      <td>5</td>\n",
       "      <td>-20</td>\n",
       "      <td>-10</td>\n",
       "      <td>-115</td>\n",
       "      <td>-30</td>\n",
       "      <td>-30</td>\n",
       "    </tr>\n",
       "    <tr>\n",
       "      <th>1</th>\n",
       "      <td>1</td>\n",
       "      <td>100</td>\n",
       "      <td>421</td>\n",
       "      <td>8</td>\n",
       "      <td>13</td>\n",
       "      <td>1</td>\n",
       "      <td>False</td>\n",
       "      <td>2</td>\n",
       "      <td>14</td>\n",
       "      <td>3</td>\n",
       "      <td>True</td>\n",
       "      <td>-50</td>\n",
       "      <td>-95</td>\n",
       "      <td>-70</td>\n",
       "      <td>-60</td>\n",
       "      <td>-85</td>\n",
       "      <td>-30</td>\n",
       "    </tr>\n",
       "    <tr>\n",
       "      <th>2</th>\n",
       "      <td>1</td>\n",
       "      <td>247</td>\n",
       "      <td>421</td>\n",
       "      <td>1</td>\n",
       "      <td>6</td>\n",
       "      <td>2</td>\n",
       "      <td>False</td>\n",
       "      <td>2</td>\n",
       "      <td>14</td>\n",
       "      <td>3</td>\n",
       "      <td>True</td>\n",
       "      <td>-35</td>\n",
       "      <td>-70</td>\n",
       "      <td>-70</td>\n",
       "      <td>-80</td>\n",
       "      <td>-70</td>\n",
       "      <td>-45</td>\n",
       "    </tr>\n",
       "    <tr>\n",
       "      <th>3</th>\n",
       "      <td>1</td>\n",
       "      <td>45</td>\n",
       "      <td>421</td>\n",
       "      <td>12</td>\n",
       "      <td>4</td>\n",
       "      <td>1</td>\n",
       "      <td>False</td>\n",
       "      <td>2</td>\n",
       "      <td>14</td>\n",
       "      <td>3</td>\n",
       "      <td>True</td>\n",
       "      <td>35</td>\n",
       "      <td>-85</td>\n",
       "      <td>-80</td>\n",
       "      <td>-115</td>\n",
       "      <td>-95</td>\n",
       "      <td>-90</td>\n",
       "    </tr>\n",
       "    <tr>\n",
       "      <th>4</th>\n",
       "      <td>1</td>\n",
       "      <td>259</td>\n",
       "      <td>421</td>\n",
       "      <td>3</td>\n",
       "      <td>3</td>\n",
       "      <td>2</td>\n",
       "      <td>False</td>\n",
       "      <td>2</td>\n",
       "      <td>14</td>\n",
       "      <td>3</td>\n",
       "      <td>True</td>\n",
       "      <td>-35</td>\n",
       "      <td>-67</td>\n",
       "      <td>-63</td>\n",
       "      <td>-95</td>\n",
       "      <td>-65</td>\n",
       "      <td>-15</td>\n",
       "    </tr>\n",
       "  </tbody>\n",
       "</table>\n",
       "</div>"
      ],
      "text/plain": [
       "   Winner  First_pokemon  Second_pokemon  Type 1_first  Type 2_first  \\\n",
       "0       1            568             421            12            12   \n",
       "1       1            100             421             8            13   \n",
       "2       1            247             421             1             6   \n",
       "3       1             45             421            12             4   \n",
       "4       1            259             421             3             3   \n",
       "\n",
       "   Generation_first  Legendary_first  Type 1_second  Type 2_second  \\\n",
       "0                 5            False              2             14   \n",
       "1                 1            False              2             14   \n",
       "2                 2            False              2             14   \n",
       "3                 1            False              2             14   \n",
       "4                 2            False              2             14   \n",
       "\n",
       "   Generation_second  Legendary_second  HP_diff  Attack_diff  Defense_diff  \\\n",
       "0                  3              True        5          -20           -10   \n",
       "1                  3              True      -50          -95           -70   \n",
       "2                  3              True      -35          -70           -70   \n",
       "3                  3              True       35          -85           -80   \n",
       "4                  3              True      -35          -67           -63   \n",
       "\n",
       "   Sp. Atk_diff  Sp. Def_diff  Speed_diff  \n",
       "0          -115           -30         -30  \n",
       "1           -60           -85         -30  \n",
       "2           -80           -70         -45  \n",
       "3          -115           -95         -90  \n",
       "4           -95           -65         -15  "
      ]
     },
     "execution_count": 34,
     "metadata": {},
     "output_type": "execute_result"
    }
   ],
   "source": [
    "label_train.head()"
   ]
  },
  {
   "cell_type": "code",
   "execution_count": 35,
   "metadata": {},
   "outputs": [
    {
     "data": {
      "text/plain": [
       "<AxesSubplot:>"
      ]
     },
     "execution_count": 35,
     "metadata": {},
     "output_type": "execute_result"
    },
    {
     "data": {
      "image/png": "[encoded data removed]",
      "text/plain": [
       "<Figure size 1440x1152 with 2 Axes>"
      ]
     },
     "metadata": {
      "needs_background": "light"
     },
     "output_type": "display_data"
    }
   ],
   "source": [
    "plt.figure(figsize=(20, 16))\n",
    "correlation = label_train.corr()\n",
    "sns.heatmap(correlation, annot = True, linewidth = 2)"
   ]
  },
  {
   "cell_type": "markdown",
   "metadata": {},
   "source": [
    "Le feature, i cui valori associati a **Winner** si trovano attorno allo 0, sono quelli che hanno meno influenza. Si decide di porre la soglia a 0.18, andando a eliminare tutte le colonne il cui modulo è inferiore a tale valore. Queste sono:\n",
    "\n",
    "- First_pokemon\n",
    "- Second_pokemon\n",
    "- Type 1_first\n",
    "- Type 2_first\n",
    "- Generation_first\n",
    "- Type 1_second\n",
    "- Type 2_second\n",
    "- Generation_second\n",
    "- Defense_diff\n",
    "- Legendary_first\n",
    "- Legendary_second"
   ]
  },
  {
   "cell_type": "code",
   "execution_count": 36,
   "metadata": {},
   "outputs": [],
   "source": [
    "to_drop = [\"First_pokemon\", \"Second_pokemon\", \"Type 1_first\", \"Type 2_first\", \"Generation_first\", \"Type 1_second\", \"Type 2_second\", \"Generation_second\", \"Defense_diff\", \"Legendary_first\", \"Legendary_second\"]\n",
    "drop_clumns([label_train, label_test], to_drop)"
   ]
  },
  {
   "cell_type": "code",
   "execution_count": 37,
   "metadata": {
    "scrolled": true
   },
   "outputs": [
    {
     "data": {
      "text/html": [
       "<div>\n",
       "<style scoped>\n",
       "    .dataframe tbody tr th:only-of-type {\n",
       "        vertical-align: middle;\n",
       "    }\n",
       "\n",
       "    .dataframe tbody tr th {\n",
       "        vertical-align: top;\n",
       "    }\n",
       "\n",
       "    .dataframe thead th {\n",
       "        text-align: right;\n",
       "    }\n",
       "</style>\n",
       "<table border=\"1\" class=\"dataframe\">\n",
       "  <thead>\n",
       "    <tr style=\"text-align: right;\">\n",
       "      <th></th>\n",
       "      <th>Winner</th>\n",
       "      <th>HP_diff</th>\n",
       "      <th>Attack_diff</th>\n",
       "      <th>Sp. Atk_diff</th>\n",
       "      <th>Sp. Def_diff</th>\n",
       "      <th>Speed_diff</th>\n",
       "    </tr>\n",
       "  </thead>\n",
       "  <tbody>\n",
       "    <tr>\n",
       "      <th>0</th>\n",
       "      <td>1</td>\n",
       "      <td>5</td>\n",
       "      <td>-20</td>\n",
       "      <td>-115</td>\n",
       "      <td>-30</td>\n",
       "      <td>-30</td>\n",
       "    </tr>\n",
       "    <tr>\n",
       "      <th>1</th>\n",
       "      <td>1</td>\n",
       "      <td>-50</td>\n",
       "      <td>-95</td>\n",
       "      <td>-60</td>\n",
       "      <td>-85</td>\n",
       "      <td>-30</td>\n",
       "    </tr>\n",
       "    <tr>\n",
       "      <th>2</th>\n",
       "      <td>1</td>\n",
       "      <td>-35</td>\n",
       "      <td>-70</td>\n",
       "      <td>-80</td>\n",
       "      <td>-70</td>\n",
       "      <td>-45</td>\n",
       "    </tr>\n",
       "    <tr>\n",
       "      <th>3</th>\n",
       "      <td>1</td>\n",
       "      <td>35</td>\n",
       "      <td>-85</td>\n",
       "      <td>-115</td>\n",
       "      <td>-95</td>\n",
       "      <td>-90</td>\n",
       "    </tr>\n",
       "    <tr>\n",
       "      <th>4</th>\n",
       "      <td>1</td>\n",
       "      <td>-35</td>\n",
       "      <td>-67</td>\n",
       "      <td>-95</td>\n",
       "      <td>-65</td>\n",
       "      <td>-15</td>\n",
       "    </tr>\n",
       "  </tbody>\n",
       "</table>\n",
       "</div>"
      ],
      "text/plain": [
       "   Winner  HP_diff  Attack_diff  Sp. Atk_diff  Sp. Def_diff  Speed_diff\n",
       "0       1        5          -20          -115           -30         -30\n",
       "1       1      -50          -95           -60           -85         -30\n",
       "2       1      -35          -70           -80           -70         -45\n",
       "3       1       35          -85          -115           -95         -90\n",
       "4       1      -35          -67           -95           -65         -15"
      ]
     },
     "execution_count": 37,
     "metadata": {},
     "output_type": "execute_result"
    }
   ],
   "source": [
    "label_train.head()"
   ]
  },
  {
   "cell_type": "markdown",
   "metadata": {},
   "source": [
    "### Preparazione dati per l'apprendimento"
   ]
  },
  {
   "cell_type": "code",
   "execution_count": 38,
   "metadata": {},
   "outputs": [],
   "source": [
    "train_raw = label_train.copy()\n",
    "test_raw = label_test.copy()\n",
    "y_train = train_raw[\"Winner\"]\n",
    "X_train = train_raw.drop(labels=[\"Winner\"], axis=1)\n",
    "y_test = test_raw[\"Winner\"]\n",
    "X_test = test_raw.drop(labels=[\"Winner\"], axis=1)"
   ]
  },
  {
   "cell_type": "code",
   "execution_count": 39,
   "metadata": {},
   "outputs": [
    {
     "data": {
      "text/html": [
       "<div>\n",
       "<style scoped>\n",
       "    .dataframe tbody tr th:only-of-type {\n",
       "        vertical-align: middle;\n",
       "    }\n",
       "\n",
       "    .dataframe tbody tr th {\n",
       "        vertical-align: top;\n",
       "    }\n",
       "\n",
       "    .dataframe thead th {\n",
       "        text-align: right;\n",
       "    }\n",
       "</style>\n",
       "<table border=\"1\" class=\"dataframe\">\n",
       "  <thead>\n",
       "    <tr style=\"text-align: right;\">\n",
       "      <th></th>\n",
       "      <th>HP_diff</th>\n",
       "      <th>Attack_diff</th>\n",
       "      <th>Sp. Atk_diff</th>\n",
       "      <th>Sp. Def_diff</th>\n",
       "      <th>Speed_diff</th>\n",
       "    </tr>\n",
       "  </thead>\n",
       "  <tbody>\n",
       "    <tr>\n",
       "      <th>0</th>\n",
       "      <td>5</td>\n",
       "      <td>-20</td>\n",
       "      <td>-115</td>\n",
       "      <td>-30</td>\n",
       "      <td>-30</td>\n",
       "    </tr>\n",
       "    <tr>\n",
       "      <th>1</th>\n",
       "      <td>-50</td>\n",
       "      <td>-95</td>\n",
       "      <td>-60</td>\n",
       "      <td>-85</td>\n",
       "      <td>-30</td>\n",
       "    </tr>\n",
       "    <tr>\n",
       "      <th>2</th>\n",
       "      <td>-35</td>\n",
       "      <td>-70</td>\n",
       "      <td>-80</td>\n",
       "      <td>-70</td>\n",
       "      <td>-45</td>\n",
       "    </tr>\n",
       "    <tr>\n",
       "      <th>3</th>\n",
       "      <td>35</td>\n",
       "      <td>-85</td>\n",
       "      <td>-115</td>\n",
       "      <td>-95</td>\n",
       "      <td>-90</td>\n",
       "    </tr>\n",
       "    <tr>\n",
       "      <th>4</th>\n",
       "      <td>-35</td>\n",
       "      <td>-67</td>\n",
       "      <td>-95</td>\n",
       "      <td>-65</td>\n",
       "      <td>-15</td>\n",
       "    </tr>\n",
       "  </tbody>\n",
       "</table>\n",
       "</div>"
      ],
      "text/plain": [
       "   HP_diff  Attack_diff  Sp. Atk_diff  Sp. Def_diff  Speed_diff\n",
       "0        5          -20          -115           -30         -30\n",
       "1      -50          -95           -60           -85         -30\n",
       "2      -35          -70           -80           -70         -45\n",
       "3       35          -85          -115           -95         -90\n",
       "4      -35          -67           -95           -65         -15"
      ]
     },
     "execution_count": 39,
     "metadata": {},
     "output_type": "execute_result"
    }
   ],
   "source": [
    "X_train.head()"
   ]
  },
  {
   "cell_type": "code",
   "execution_count": 40,
   "metadata": {
    "scrolled": true
   },
   "outputs": [
    {
     "data": {
      "text/plain": [
       "0    1\n",
       "1    1\n",
       "2    1\n",
       "3    1\n",
       "4    1\n",
       "Name: Winner, dtype: int64"
      ]
     },
     "execution_count": 40,
     "metadata": {},
     "output_type": "execute_result"
    }
   ],
   "source": [
    "y_train.head()"
   ]
  },
  {
   "cell_type": "markdown",
   "metadata": {},
   "source": [
    "### Apprendimento"
   ]
  },
  {
   "cell_type": "markdown",
   "metadata": {},
   "source": [
    "Vengono presi in considerazione due algoritmi di classificazione:\n",
    "\n",
    "- K-Nearest Neighbors\n",
    "- Decision Tree\n",
    "\n",
    "Nel dettaglio, il primo algoritmo viene testato su più neighbors per vedere quale porta risultati migliori"
   ]
  },
  {
   "cell_type": "code",
   "execution_count": 41,
   "metadata": {},
   "outputs": [],
   "source": [
    "best_results = {}"
   ]
  },
  {
   "cell_type": "code",
   "execution_count": 42,
   "metadata": {},
   "outputs": [],
   "source": [
    "def get_train_test_accuracy(y_train, y_train_pred, y_test, y_test_pred):\n",
    "    train_accuracy = round(accuracy_score(y_train, y_train_pred)*100, 2)\n",
    "    test_accuracy = round(accuracy_score(y_test, y_test_pred)*100, 2)\n",
    "    return train_accuracy, test_accuracy\n"
   ]
  },
  {
   "cell_type": "code",
   "execution_count": 43,
   "metadata": {},
   "outputs": [
    {
     "name": "stdout",
     "output_type": "stream",
     "text": [
      "K-Neighbors con n_neighbors=1\n",
      "Train set accuracy: 100.00%\n",
      "Test set accuracy: 88.39%\n",
      "\n",
      "\n",
      "K-Neighbors con n_neighbors=3\n",
      "Train set accuracy: 94.38%\n",
      "Test set accuracy: 90.36%\n",
      "\n",
      "\n",
      "K-Neighbors con n_neighbors=5\n",
      "Train set accuracy: 93.54%\n",
      "Test set accuracy: 91.15%\n",
      "\n",
      "\n",
      "K-Neighbors con n_neighbors=7\n",
      "Train set accuracy: 93.08%\n",
      "Test set accuracy: 91.54%\n",
      "\n",
      "\n",
      "K-Neighbors con n_neighbors=9\n",
      "Train set accuracy: 92.84%\n",
      "Test set accuracy: 91.59%\n",
      "\n",
      "\n",
      "K-Neighbors con n_neighbors=11\n",
      "Train set accuracy: 92.70%\n",
      "Test set accuracy: 91.55%\n",
      "\n",
      "\n",
      "K-Neighbors con n_neighbors=13\n",
      "Train set accuracy: 92.66%\n",
      "Test set accuracy: 91.52%\n",
      "\n",
      "\n",
      "La migliore configurazione di KNeighborsClassifier ha 9 neighbors\n",
      "train_accuracy = 92.84%\n",
      "test_accuracy = 91.59%\n"
     ]
    }
   ],
   "source": [
    "best_configuration = (1, 0, 0)\n",
    "best_KNC = None\n",
    "for i in range(1, 15, 2):\n",
    "    clf = KNeighborsClassifier(n_neighbors=i)\n",
    "\n",
    "    clf.fit(X_train, y_train)\n",
    "    \n",
    "\n",
    "    y_train_pred=clf.predict(X_train)\n",
    "    y_test_pred=clf.predict(X_test)\n",
    "\n",
    "    train_accuracy, test_accuracy = get_train_test_accuracy(y_train, y_train_pred, y_test, y_test_pred)\n",
    "    \n",
    "    print(f\"K-Neighbors con n_neighbors={i}\")\n",
    "    print(\"Train set accuracy: {:.2f}%\".format(train_accuracy))\n",
    "    print(\"Test set accuracy: {:.2f}%\".format(test_accuracy))\n",
    "    print(\"\\n\")\n",
    "    if best_configuration[2] < test_accuracy or (best_configuration[2] == test_accuracy and best_configuration[1] < train_accuracy):\n",
    "        best_configuration = (i, train_accuracy, test_accuracy)\n",
    "        best_KNC = clf\n",
    "\n",
    "print(f\"La migliore configurazione di KNeighborsClassifier ha {best_configuration[0]} neighbors\")\n",
    "print(f\"train_accuracy = {best_configuration[1]}%\")\n",
    "print(f\"test_accuracy = {best_configuration[2]}%\")\n",
    "best_results['KNeighborsClassifier'] = (best_configuration[2], best_KNC)"
   ]
  },
  {
   "cell_type": "code",
   "execution_count": 44,
   "metadata": {},
   "outputs": [
    {
     "name": "stdout",
     "output_type": "stream",
     "text": [
      "Decision Tree Classifier\n",
      "train_accuracy = 100.0%\n",
      "test_accuracy = 90.69%\n",
      "\n"
     ]
    }
   ],
   "source": [
    "dec_tree = DecisionTreeClassifier()\n",
    "\n",
    "dec_tree.fit(X_train, y_train)\n",
    "\n",
    "y_train_pred=dec_tree.predict(X_train)\n",
    "y_test_pred=dec_tree.predict(X_test)\n",
    "\n",
    "train_accuracy, test_accuracy = get_train_test_accuracy(y_train, y_train_pred, y_test, y_test_pred)\n",
    "\n",
    "print(f\"Decision Tree Classifier\")\n",
    "print(f\"train_accuracy = {train_accuracy}%\")\n",
    "print(f\"test_accuracy = {test_accuracy}%\")\n",
    "print(\"\")\n",
    "\n",
    "best_results['DecisionTreeClassifier'] = (test_accuracy, dec_tree)"
   ]
  },
  {
   "cell_type": "code",
   "execution_count": 45,
   "metadata": {},
   "outputs": [
    {
     "data": {
      "text/plain": [
       "{'KNeighborsClassifier': (91.59, KNeighborsClassifier(n_neighbors=9)),\n",
       " 'DecisionTreeClassifier': (90.69, DecisionTreeClassifier())}"
      ]
     },
     "execution_count": 45,
     "metadata": {},
     "output_type": "execute_result"
    }
   ],
   "source": [
    "best_results"
   ]
  },
  {
   "cell_type": "code",
   "execution_count": 46,
   "metadata": {},
   "outputs": [
    {
     "name": "stdout",
     "output_type": "stream",
     "text": [
      "Il miglior classificatore è KNeighborsClassifier con un'accuracy di 91.59%\n"
     ]
    }
   ],
   "source": [
    "best_classifier = (\"\", 0)\n",
    "for classifier in best_results:\n",
    "    accuracy = best_results[classifier][0]\n",
    "    if accuracy > best_classifier[1]:\n",
    "        best_classifier = (classifier, accuracy)\n",
    "print(f\"Il miglior classificatore è {best_classifier[0]} con un'accuracy di {best_classifier[1]}%\")"
   ]
  },
  {
   "cell_type": "code",
   "execution_count": 47,
   "metadata": {},
   "outputs": [
    {
     "name": "stdout",
     "output_type": "stream",
     "text": [
      "KNeighborsClassifier\n"
     ]
    },
    {
     "data": {
      "text/plain": [
       "<sklearn.metrics._plot.confusion_matrix.ConfusionMatrixDisplay at 0x7f320b26bf10>"
      ]
     },
     "execution_count": 47,
     "metadata": {},
     "output_type": "execute_result"
    },
    {
     "data": {
      "image/png": "[encoded data removed]",
      "text/plain": [
       "<Figure size 432x288 with 2 Axes>"
      ]
     },
     "metadata": {
      "needs_background": "light"
     },
     "output_type": "display_data"
    }
   ],
   "source": [
    "print(\"KNeighborsClassifier\")\n",
    "plot_confusion_matrix(best_results['KNeighborsClassifier'][1], X_test, y_test)"
   ]
  },
  {
   "cell_type": "code",
   "execution_count": 48,
   "metadata": {},
   "outputs": [
    {
     "name": "stdout",
     "output_type": "stream",
     "text": [
      "DecisionTreeClassifier\n"
     ]
    },
    {
     "data": {
      "text/plain": [
       "<sklearn.metrics._plot.confusion_matrix.ConfusionMatrixDisplay at 0x7f3209545520>"
      ]
     },
     "execution_count": 48,
     "metadata": {},
     "output_type": "execute_result"
    },
    {
     "data": {
      "image/png": "[encoded data removed]",
      "text/plain": [
       "<Figure size 432x288 with 2 Axes>"
      ]
     },
     "metadata": {
      "needs_background": "light"
     },
     "output_type": "display_data"
    }
   ],
   "source": [
    "print(\"DecisionTreeClassifier\")\n",
    "plot_confusion_matrix(best_results['DecisionTreeClassifier'][1], X_test, y_test)"
   ]
  },
  {
   "cell_type": "markdown",
   "metadata": {},
   "source": [
    "Le due matrici di confusione risultano molto simili. Le differenze sono nel fatto che KNN ha molti meno FP e qualche FN in più. Nel dataset a nostra disposizione i due algoritmi performano comunque in modo simile, con il primo che ha prestazioni di poco superiori al secondo (la differenza è di 0.1 punto percentuale di accuracy). Ne consegue che il classificatore scelto sia **KNeighborsClassifier**"
   ]
  },
  {
   "cell_type": "markdown",
   "metadata": {},
   "source": [
    "# Risultato finale"
   ]
  },
  {
   "cell_type": "code",
   "execution_count": 49,
   "metadata": {},
   "outputs": [
    {
     "name": "stdout",
     "output_type": "stream",
     "text": [
      "Classificatore: KNeighborsClassifier(n_neighbors=9)\n",
      "Accuracy: 91.59%\n"
     ]
    }
   ],
   "source": [
    "print(f\"Classificatore: {best_results['KNeighborsClassifier'][1]}\")\n",
    "print(f\"Accuracy: {best_results['KNeighborsClassifier'][0]}%\")\n",
    "# print(best_results[\"KNeighborsClassifier\"])"
   ]
  },
  {
   "cell_type": "code",
   "execution_count": 50,
   "metadata": {},
   "outputs": [
    {
     "name": "stdout",
     "output_type": "stream",
     "text": [
      "KNeighborsClassifier\n"
     ]
    },
    {
     "data": {
      "text/plain": [
       "<sklearn.metrics._plot.confusion_matrix.ConfusionMatrixDisplay at 0x7f32094c7b20>"
      ]
     },
     "execution_count": 50,
     "metadata": {},
     "output_type": "execute_result"
    },
    {
     "data": {
      "image/png": "[encoded data removed]",
      "text/plain": [
       "<Figure size 432x288 with 2 Axes>"
      ]
     },
     "metadata": {
      "needs_background": "light"
     },
     "output_type": "display_data"
    }
   ],
   "source": [
    "print(\"KNeighborsClassifier\")\n",
    "plot_confusion_matrix(best_results['KNeighborsClassifier'][1], X_test, y_test)"
   ]
  },
  {
   "cell_type": "code",
   "execution_count": null,
   "metadata": {},
   "outputs": [],
   "source": []
  }
 ],
 "metadata": {
  "kernelspec": {
   "display_name": "Python 3",
   "language": "python",
   "name": "python3"
  },
  "language_info": {
   "codemirror_mode": {
    "name": "ipython",
    "version": 3
   },
   "file_extension": ".py",
   "mimetype": "text/x-python",
   "name": "python",
   "nbconvert_exporter": "python",
   "pygments_lexer": "ipython3",
   "version": "3.8.5"
  }
 },
 "nbformat": 4,
 "nbformat_minor": 4
}
